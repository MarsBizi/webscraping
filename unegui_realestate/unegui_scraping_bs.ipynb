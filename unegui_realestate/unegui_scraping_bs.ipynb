{
 "cells": [
  {
   "cell_type": "code",
   "execution_count": 1,
   "source": [
    "import pandas as pd\n",
    "import numpy as np\n",
    "import requests\n",
    "from bs4 import BeautifulSoup\n",
    "import time\n",
    "import random"
   ],
   "outputs": [],
   "metadata": {}
  },
  {
   "cell_type": "code",
   "execution_count": 2,
   "source": [
    "# base url for scraping\n",
    "url = 'https://www.unegui.mn/l-hdlh/l-hdlh-zarna/oron-suuts-zarna/?type_view=line&ordering=newest'"
   ],
   "outputs": [],
   "metadata": {}
  },
  {
   "cell_type": "code",
   "execution_count": 3,
   "source": [
    "# Create list to store data\n",
    "posting_link = []\n",
    "posting_name = []\n",
    "posting_price = []\n",
    "posting_date = []\n",
    "posting_details = []\n",
    "posting_description = []"
   ],
   "outputs": [],
   "metadata": {}
  },
  {
   "cell_type": "code",
   "execution_count": 4,
   "source": [
    "# SOME FUNCTIONS\n",
    "\n",
    "# Scrap web data as text\n",
    "def get_data(url):\n",
    "    r = requests.get(url)\n",
    "    return r.text\n",
    "\n",
    "\n",
    "# Parse all html code\n",
    "def parse_html(url):\n",
    "    raw = get_data(url)\n",
    "    soup = BeautifulSoup(raw, 'lxml')\n",
    "    \n",
    "    return soup\n",
    "\n",
    "\n",
    "# Scrape from listing details \n",
    "def get_posting_details(posting_url):\n",
    "    soup_post = parse_html(posting_url)\n",
    "    \n",
    "    try:\n",
    "        # get detailed description\n",
    "        data_desc = soup_post.find(class_='announcement-description').text.replace('\\n', '')\n",
    "        posting_description.append(data_desc)\n",
    "    \n",
    "    except:\n",
    "        posting_description.append(' ')\n",
    "    \n",
    "    # get listing features (floor_type, year built, etc)\n",
    "    try:\n",
    "        data_post = soup_post.find(class_='announcement-characteristics')\n",
    "        data_chars = data_post.find_all('li')\n",
    "        chars_list = []\n",
    "        for chars in data_chars:\n",
    "            try:\n",
    "                value_char = chars.find(class_='value-chars').text.strip()\n",
    "                chars_list.append(value_char)\n",
    "            except:\n",
    "                chars_list.append(' ')\n",
    "        posting_details.append(chars_list)\n",
    "    except:\n",
    "        posting_details.append('[ ]')\n",
    "    \n",
    "    \n",
    "# Scrape from listing page\n",
    "def get_posting(soup):\n",
    "    first = soup.find(class_='list-simple__output')\n",
    "    data_str = first.find_all('li',class_='announcement-container')\n",
    "    for post in data_str:\n",
    "        \n",
    "        # get posting title\n",
    "        try:\n",
    "            data_title = post.find(class_='announcement-block__title')\n",
    "            posting_name.append(data_title['content'])\n",
    "            \n",
    "        except:\n",
    "            posting_name.append(' ')\n",
    "        \n",
    "        # get posting price\n",
    "        try:\n",
    "            data_price = post.find(class_='announcement-block__price')\n",
    "            price = data_price.find(itemprop='price')\n",
    "            posting_price.append(price['content'])\n",
    "            \n",
    "        except:\n",
    "            posting_price.append(' ')\n",
    "        \n",
    "        # get date posted\n",
    "        ### strip off space \n",
    "        ### then convert to its date? \n",
    "        try:\n",
    "            data_date = post.find(class_='announcement-block__date').text.replace('\\n', '')\n",
    "            posting_date.append(data_date)\n",
    "            \n",
    "        except:\n",
    "            posting_date.append(' ')\n",
    "    \n",
    "        # get posting url\n",
    "        try:\n",
    "            posting_detail_url = 'https://www.unegui.mn' + data_title['href']\n",
    "            posting_link.append(posting_detail_url)\n",
    "        \n",
    "        except:\n",
    "            posting_link.append(' ')\n",
    "        \n",
    "       \n",
    "        #request posting details from direct link\n",
    "        # get detailed description\n",
    "        #returns list with detailed features\n",
    "        get_posting_details(posting_detail_url)\n"
   ],
   "outputs": [],
   "metadata": {}
  },
  {
   "cell_type": "code",
   "execution_count": 5,
   "source": [
    "# soup = parse_html(url)\n",
    "# get_posting(soup)"
   ],
   "outputs": [],
   "metadata": {}
  },
  {
   "cell_type": "code",
   "execution_count": 6,
   "source": [
    "# d = {'posting_name':posting_name, 'posting_link':posting_link, 'price':posting_price, \n",
    "#      'date_posted':posting_date, 'details_list':posting_details, 'description':posting_description}\n",
    "# df = pd.DataFrame(data=d)\n",
    "# df"
   ],
   "outputs": [],
   "metadata": {
    "scrolled": true
   }
  },
  {
   "cell_type": "code",
   "execution_count": 7,
   "source": [
    "# for i in range(2):\n",
    "    \n",
    "#     url = 'https://www.unegui.mn/l-hdlh/l-hdlh-zarna/oron-suuts-zarna/?type_view=line&ordering=newest&page=' + str(i+1)\n",
    "    \n",
    "#     soup = parse_html(url)\n",
    "#     get_posting(soup)\n",
    "#     sleeptime = random.uniform(4, 8)\n",
    "#     time.sleep(sleeptime)\n",
    "    \n",
    "# d = {'posting_name':posting_name, 'posting_link':posting_link, 'price':posting_price, \n",
    "#      'date_posted':posting_date, 'details_list':posting_details, 'description':posting_description}\n",
    "# df = pd.DataFrame(data=d)\n",
    "# df.head()\n",
    "\n",
    "# time.sleep(10)"
   ],
   "outputs": [],
   "metadata": {}
  },
  {
   "cell_type": "code",
   "execution_count": 8,
   "source": [
    "#df.info()"
   ],
   "outputs": [],
   "metadata": {}
  },
  {
   "cell_type": "code",
   "execution_count": 9,
   "source": [
    "#df.to_csv('unegui_test.csv', index=False)"
   ],
   "outputs": [],
   "metadata": {}
  },
  {
   "cell_type": "code",
   "execution_count": 10,
   "source": [
    "for i in range(9):\n",
    "    \n",
    "    url = 'https://www.unegui.mn/l-hdlh/l-hdlh-zarna/oron-suuts-zarna/?type_view=line&ordering=newest&page=' + str(i+1)\n",
    "    \n",
    "    soup = parse_html(url)\n",
    "    get_posting(soup)\n",
    "    print(i)\n",
    "    \n",
    "time.sleep(2)"
   ],
   "outputs": [
    {
     "output_type": "stream",
     "name": "stdout",
     "text": [
      "0\n",
      "1\n",
      "2\n",
      "3\n",
      "4\n",
      "5\n",
      "6\n",
      "7\n",
      "8\n",
      "CPU times: user 3 µs, sys: 0 ns, total: 3 µs\n",
      "Wall time: 6.2 µs\n"
     ]
    }
   ],
   "metadata": {}
  },
  {
   "cell_type": "code",
   "execution_count": 11,
   "source": [
    "for i in range(9, 19):\n",
    "    \n",
    "    url = 'https://www.unegui.mn/l-hdlh/l-hdlh-zarna/oron-suuts-zarna/?type_view=line&ordering=newest&page=' + str(i+1)\n",
    "    \n",
    "    soup = parse_html(url)\n",
    "    get_posting(soup)\n",
    "    print(i)\n",
    "\n",
    "time.sleep(2)"
   ],
   "outputs": [
    {
     "output_type": "stream",
     "name": "stdout",
     "text": [
      "9\n",
      "10\n",
      "11\n",
      "12\n",
      "13\n",
      "14\n",
      "15\n",
      "16\n",
      "17\n",
      "18\n",
      "CPU times: user 5 µs, sys: 1 µs, total: 6 µs\n",
      "Wall time: 12.2 µs\n"
     ]
    }
   ],
   "metadata": {}
  },
  {
   "cell_type": "code",
   "execution_count": 12,
   "source": [
    "for i in range(19, 29):\n",
    "    \n",
    "    url = 'https://www.unegui.mn/l-hdlh/l-hdlh-zarna/oron-suuts-zarna/?type_view=line&ordering=newest&page=' + str(i+1)\n",
    "    \n",
    "    soup = parse_html(url)\n",
    "    get_posting(soup)\n",
    "    print(i)\n",
    "    \n",
    "time.sleep(2)"
   ],
   "outputs": [
    {
     "output_type": "stream",
     "name": "stdout",
     "text": [
      "19\n",
      "20\n",
      "21\n",
      "22\n",
      "23\n",
      "24\n",
      "25\n",
      "26\n",
      "27\n",
      "28\n",
      "CPU times: user 3 µs, sys: 1e+03 ns, total: 4 µs\n",
      "Wall time: 7.15 µs\n"
     ]
    }
   ],
   "metadata": {}
  },
  {
   "cell_type": "code",
   "execution_count": 13,
   "source": [
    "for i in range(29, 39):\n",
    "    \n",
    "    url = 'https://www.unegui.mn/l-hdlh/l-hdlh-zarna/oron-suuts-zarna/?type_view=line&ordering=newest&page=' + str(i+1)\n",
    "    \n",
    "    soup = parse_html(url)\n",
    "    get_posting(soup)\n",
    "    print(i)\n",
    "\n",
    "time.sleep(2)"
   ],
   "outputs": [
    {
     "output_type": "stream",
     "name": "stdout",
     "text": [
      "29\n",
      "30\n",
      "31\n",
      "32\n",
      "33\n",
      "34\n",
      "35\n",
      "36\n",
      "37\n",
      "38\n",
      "CPU times: user 5 µs, sys: 1e+03 ns, total: 6 µs\n",
      "Wall time: 18.1 µs\n"
     ]
    }
   ],
   "metadata": {}
  },
  {
   "cell_type": "code",
   "execution_count": 14,
   "source": [
    "for i in range(39, 49):\n",
    "    \n",
    "    url = 'https://www.unegui.mn/l-hdlh/l-hdlh-zarna/oron-suuts-zarna/?type_view=line&ordering=newest&page=' + str(i+1)\n",
    "    \n",
    "    soup = parse_html(url)\n",
    "    get_posting(soup)\n",
    "    print(i)\n",
    "\n",
    "time.sleep(2)"
   ],
   "outputs": [
    {
     "output_type": "stream",
     "name": "stdout",
     "text": [
      "39\n",
      "40\n",
      "41\n",
      "42\n",
      "43\n",
      "44\n",
      "45\n",
      "46\n",
      "47\n",
      "48\n",
      "CPU times: user 6 µs, sys: 2 µs, total: 8 µs\n",
      "Wall time: 19.1 µs\n"
     ]
    }
   ],
   "metadata": {}
  },
  {
   "cell_type": "code",
   "execution_count": 15,
   "source": [
    "for i in range(49, 59):\n",
    "    \n",
    "    url = 'https://www.unegui.mn/l-hdlh/l-hdlh-zarna/oron-suuts-zarna/?type_view=line&ordering=newest&page=' + str(i+1)\n",
    "    \n",
    "    soup = parse_html(url)\n",
    "    get_posting(soup)\n",
    "    print(i)\n",
    "\n",
    "time.sleep(2)"
   ],
   "outputs": [
    {
     "output_type": "stream",
     "name": "stdout",
     "text": [
      "49\n",
      "50\n",
      "51\n",
      "52\n",
      "53\n",
      "54\n",
      "55\n",
      "56\n",
      "57\n",
      "58\n",
      "CPU times: user 2 µs, sys: 0 ns, total: 2 µs\n",
      "Wall time: 7.15 µs\n"
     ]
    }
   ],
   "metadata": {}
  },
  {
   "cell_type": "code",
   "execution_count": 16,
   "source": [
    "for i in range(59, 69):\n",
    "    \n",
    "    url = 'https://www.unegui.mn/l-hdlh/l-hdlh-zarna/oron-suuts-zarna/?type_view=line&ordering=newest&page=' + str(i+1)\n",
    "    \n",
    "    soup = parse_html(url)\n",
    "    get_posting(soup)\n",
    "    print(i)\n",
    "\n",
    "time.sleep(2)"
   ],
   "outputs": [
    {
     "output_type": "stream",
     "name": "stdout",
     "text": [
      "59\n",
      "60\n",
      "61\n",
      "62\n",
      "63\n",
      "64\n",
      "65\n",
      "66\n",
      "67\n",
      "68\n",
      "CPU times: user 9 µs, sys: 19 µs, total: 28 µs\n",
      "Wall time: 40.1 µs\n"
     ]
    }
   ],
   "metadata": {}
  },
  {
   "cell_type": "code",
   "execution_count": 17,
   "source": [
    "for i in range(69, 79):\n",
    "    \n",
    "    url = 'https://www.unegui.mn/l-hdlh/l-hdlh-zarna/oron-suuts-zarna/?type_view=line&ordering=newest&page=' + str(i+1)\n",
    "    \n",
    "    soup = parse_html(url)\n",
    "    get_posting(soup)\n",
    "    print(i)\n",
    "    \n",
    "time.sleep(2)"
   ],
   "outputs": [
    {
     "output_type": "stream",
     "name": "stdout",
     "text": [
      "69\n",
      "70\n",
      "71\n",
      "72\n",
      "73\n",
      "74\n",
      "75\n",
      "76\n",
      "77\n",
      "78\n"
     ]
    }
   ],
   "metadata": {}
  },
  {
   "cell_type": "code",
   "execution_count": 18,
   "source": [
    "for i in range(79, 89):\n",
    "    \n",
    "    url = 'https://www.unegui.mn/l-hdlh/l-hdlh-zarna/oron-suuts-zarna/?type_view=line&ordering=newest&page=' + str(i+1)\n",
    "    \n",
    "    soup = parse_html(url)\n",
    "    get_posting(soup)\n",
    "    print(i)\n",
    "\n",
    "time.sleep(2)"
   ],
   "outputs": [
    {
     "output_type": "stream",
     "name": "stdout",
     "text": [
      "79\n",
      "80\n",
      "81\n",
      "82\n",
      "83\n",
      "84\n",
      "85\n",
      "86\n",
      "87\n",
      "88\n"
     ]
    }
   ],
   "metadata": {}
  },
  {
   "cell_type": "code",
   "execution_count": 19,
   "source": [
    "for i in range(89, 99):\n",
    "    \n",
    "    url = 'https://www.unegui.mn/l-hdlh/l-hdlh-zarna/oron-suuts-zarna/?type_view=line&ordering=newest&page=' + str(i+1)\n",
    "    \n",
    "    soup = parse_html(url)\n",
    "    get_posting(soup)\n",
    "    print(i)\n",
    "\n",
    "time.sleep(2)"
   ],
   "outputs": [
    {
     "output_type": "stream",
     "name": "stdout",
     "text": [
      "89\n",
      "90\n",
      "91\n",
      "92\n",
      "93\n",
      "94\n",
      "95\n",
      "96\n",
      "97\n",
      "98\n"
     ]
    }
   ],
   "metadata": {}
  },
  {
   "cell_type": "code",
   "execution_count": 20,
   "source": [
    "for i in range(99, 109):\n",
    "    \n",
    "    url = 'https://www.unegui.mn/l-hdlh/l-hdlh-zarna/oron-suuts-zarna/?type_view=line&ordering=newest&page=' + str(i+1)\n",
    "    \n",
    "    soup = parse_html(url)\n",
    "    get_posting(soup)\n",
    "    print(i)\n",
    "    \n",
    "time.sleep(2)"
   ],
   "outputs": [
    {
     "output_type": "stream",
     "name": "stdout",
     "text": [
      "99\n",
      "100\n",
      "101\n",
      "102\n",
      "103\n",
      "104\n",
      "105\n",
      "106\n",
      "107\n",
      "108\n"
     ]
    }
   ],
   "metadata": {}
  },
  {
   "cell_type": "code",
   "execution_count": 21,
   "source": [
    "for i in range(109, 119):\n",
    "    \n",
    "    url = 'https://www.unegui.mn/l-hdlh/l-hdlh-zarna/oron-suuts-zarna/?type_view=line&ordering=newest&page=' + str(i+1)\n",
    "    \n",
    "    soup = parse_html(url)\n",
    "    get_posting(soup)\n",
    "    print(i)\n"
   ],
   "outputs": [
    {
     "output_type": "stream",
     "name": "stdout",
     "text": [
      "109\n",
      "110\n",
      "111\n",
      "112\n",
      "113\n",
      "114\n",
      "115\n",
      "116\n",
      "117\n",
      "118\n"
     ]
    }
   ],
   "metadata": {}
  },
  {
   "cell_type": "code",
   "execution_count": 22,
   "source": [
    "d = {'posting_name':posting_name, 'posting_link':posting_link, 'price':posting_price, \n",
    "     'date_posted':posting_date, 'details_list':posting_details, 'description':posting_description}\n",
    "df = pd.DataFrame(data=d)\n",
    "#df.head()"
   ],
   "outputs": [],
   "metadata": {}
  },
  {
   "cell_type": "code",
   "execution_count": 23,
   "source": [
    "df.head()"
   ],
   "outputs": [
    {
     "output_type": "execute_result",
     "data": {
      "text/plain": [
       "                                        posting_name  \\\n",
       "0  Номин констракшны яармагт garden city 2 төсөлд...   \n",
       "1              Harhorin horoolold 58,2mkv 2oroo bair   \n",
       "2                  Хангай хотхонд 2өрөө байр 37.08м2   \n",
       "3                                  Төмөр замд 3 өрөө   \n",
       "4                  Алтан богд цогцолборт 4 өрөө байр   \n",
       "\n",
       "                                        posting_link         price  \\\n",
       "0  https://www.unegui.mn/adv/5307817_nomin-konstr...  360000000.00   \n",
       "1  https://www.unegui.mn/adv/5844945_harhorin-hor...  155000000.00   \n",
       "2  https://www.unegui.mn/adv/5843673_khangai-khot...   98000000.00   \n",
       "3  https://www.unegui.mn/adv/5632308_tomor-zamd-3...  150000000.00   \n",
       "4  https://www.unegui.mn/adv/5494189_altan-bogd-t...    3100000.00   \n",
       "\n",
       "                                         date_posted  \\\n",
       "0                          Өнөөдөр 11:16,        ...   \n",
       "1                          Өнөөдөр 11:16,        ...   \n",
       "2                          Өнөөдөр 11:16,        ...   \n",
       "3                          Өнөөдөр 11:12,        ...   \n",
       "4                          Өнөөдөр 11:12,        ...   \n",
       "\n",
       "                                        details_list  \\\n",
       "0  [Паркет, 2 тагттай, 2021, Байхгүй, Төмөр вакум...   \n",
       "1  [Паркет, 1 тагттай, 2019, Байхгүй, Вакум, 16, ...   \n",
       "2  [Паркет, 1 тагттай, 2018, Байхгүй, Вакум, 12, ...   \n",
       "3  [Паркет, 1 тагттай, 1980, Байхгүй, Вакум, 5, Б...   \n",
       "4  [Паркет, 1 тагттай, 2021, Байхгүй, Вакум, 12, ...   \n",
       "\n",
       "                                         description  \n",
       "0  “НОМИН КОНСТРАКШН”-ы БҮТЭЭН БАЙГУУЛАЛТ GARDENC...  \n",
       "1  Harhorin horoolold 58,19mkv 2oroo bair hudalda...  \n",
       "2  Хангай хотхонд 2өрөө 37.08мкв -12/11давхарт-Гэ...  \n",
       "3  🏡Баянгол дүүрэг, Төмөр зам, Богд ар хороололын...  \n",
       "4  Зайсанд байрлалтай одоо ашиглалтанд орж байгаа...  "
      ],
      "text/html": [
       "<div>\n",
       "<style scoped>\n",
       "    .dataframe tbody tr th:only-of-type {\n",
       "        vertical-align: middle;\n",
       "    }\n",
       "\n",
       "    .dataframe tbody tr th {\n",
       "        vertical-align: top;\n",
       "    }\n",
       "\n",
       "    .dataframe thead th {\n",
       "        text-align: right;\n",
       "    }\n",
       "</style>\n",
       "<table border=\"1\" class=\"dataframe\">\n",
       "  <thead>\n",
       "    <tr style=\"text-align: right;\">\n",
       "      <th></th>\n",
       "      <th>posting_name</th>\n",
       "      <th>posting_link</th>\n",
       "      <th>price</th>\n",
       "      <th>date_posted</th>\n",
       "      <th>details_list</th>\n",
       "      <th>description</th>\n",
       "    </tr>\n",
       "  </thead>\n",
       "  <tbody>\n",
       "    <tr>\n",
       "      <th>0</th>\n",
       "      <td>Номин констракшны яармагт garden city 2 төсөлд...</td>\n",
       "      <td>https://www.unegui.mn/adv/5307817_nomin-konstr...</td>\n",
       "      <td>360000000.00</td>\n",
       "      <td>Өнөөдөр 11:16,        ...</td>\n",
       "      <td>[Паркет, 2 тагттай, 2021, Байхгүй, Төмөр вакум...</td>\n",
       "      <td>“НОМИН КОНСТРАКШН”-ы БҮТЭЭН БАЙГУУЛАЛТ GARDENC...</td>\n",
       "    </tr>\n",
       "    <tr>\n",
       "      <th>1</th>\n",
       "      <td>Harhorin horoolold 58,2mkv 2oroo bair</td>\n",
       "      <td>https://www.unegui.mn/adv/5844945_harhorin-hor...</td>\n",
       "      <td>155000000.00</td>\n",
       "      <td>Өнөөдөр 11:16,        ...</td>\n",
       "      <td>[Паркет, 1 тагттай, 2019, Байхгүй, Вакум, 16, ...</td>\n",
       "      <td>Harhorin horoolold 58,19mkv 2oroo bair hudalda...</td>\n",
       "    </tr>\n",
       "    <tr>\n",
       "      <th>2</th>\n",
       "      <td>Хангай хотхонд 2өрөө байр 37.08м2</td>\n",
       "      <td>https://www.unegui.mn/adv/5843673_khangai-khot...</td>\n",
       "      <td>98000000.00</td>\n",
       "      <td>Өнөөдөр 11:16,        ...</td>\n",
       "      <td>[Паркет, 1 тагттай, 2018, Байхгүй, Вакум, 12, ...</td>\n",
       "      <td>Хангай хотхонд 2өрөө 37.08мкв -12/11давхарт-Гэ...</td>\n",
       "    </tr>\n",
       "    <tr>\n",
       "      <th>3</th>\n",
       "      <td>Төмөр замд 3 өрөө</td>\n",
       "      <td>https://www.unegui.mn/adv/5632308_tomor-zamd-3...</td>\n",
       "      <td>150000000.00</td>\n",
       "      <td>Өнөөдөр 11:12,        ...</td>\n",
       "      <td>[Паркет, 1 тагттай, 1980, Байхгүй, Вакум, 5, Б...</td>\n",
       "      <td>🏡Баянгол дүүрэг, Төмөр зам, Богд ар хороололын...</td>\n",
       "    </tr>\n",
       "    <tr>\n",
       "      <th>4</th>\n",
       "      <td>Алтан богд цогцолборт 4 өрөө байр</td>\n",
       "      <td>https://www.unegui.mn/adv/5494189_altan-bogd-t...</td>\n",
       "      <td>3100000.00</td>\n",
       "      <td>Өнөөдөр 11:12,        ...</td>\n",
       "      <td>[Паркет, 1 тагттай, 2021, Байхгүй, Вакум, 12, ...</td>\n",
       "      <td>Зайсанд байрлалтай одоо ашиглалтанд орж байгаа...</td>\n",
       "    </tr>\n",
       "  </tbody>\n",
       "</table>\n",
       "</div>"
      ]
     },
     "metadata": {},
     "execution_count": 23
    }
   ],
   "metadata": {}
  },
  {
   "cell_type": "code",
   "execution_count": 25,
   "source": [
    "df.to_csv('unegui_full.csv', index=False)"
   ],
   "outputs": [],
   "metadata": {}
  }
 ],
 "metadata": {
  "kernelspec": {
   "display_name": "Python 3",
   "language": "python",
   "name": "python3"
  },
  "language_info": {
   "codemirror_mode": {
    "name": "ipython",
    "version": 3
   },
   "file_extension": ".py",
   "mimetype": "text/x-python",
   "name": "python",
   "nbconvert_exporter": "python",
   "pygments_lexer": "ipython3",
   "version": "3.8.8"
  }
 },
 "nbformat": 4,
 "nbformat_minor": 5
}